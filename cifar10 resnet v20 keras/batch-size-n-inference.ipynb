{
 "cells": [
  {
   "cell_type": "code",
   "execution_count": 1,
   "metadata": {},
   "outputs": [],
   "source": [
    "\n",
    "from random import randint\n",
    "from PIL import Image\n",
    "import numpy as np\n",
    "import pickle\n",
    "import pycuda.driver as cuda\n",
    "import pycuda.autoinit\n",
    "import uff\n",
    "import tensorrt as trt\n",
    "import ctypes\n",
    "\n",
    "from matplotlib import pyplot as plt\n",
    "from six.moves import cPickle\n",
    "import time\n",
    "import tensorflow as tf\n",
    "import logging\n"
   ]
  },
  {
   "cell_type": "code",
   "execution_count": 2,
   "metadata": {},
   "outputs": [],
   "source": [
    "logger = logging.getLogger()\n",
    "logger.setLevel(logging.ERROR)\n",
    "logging.debug(\"test\")"
   ]
  },
  {
   "cell_type": "code",
   "execution_count": 3,
   "metadata": {},
   "outputs": [],
   "source": [
    "def mAP(y_true, y_pred):\n",
    "    \n",
    "    y_true = np.array(labels).astype(np.int64)\n",
    "    y_true = tf.identity(y_true)\n",
    "\n",
    "    y_pred = np.array(y_pred).astype(np.float32)\n",
    "    y_pred = tf.identity(y_pred) # np to tensor\n",
    "    _, m_ap = tf.metrics.average_precision_at_k(y_true, y_pred, 1)\n",
    "    sess = tf.Session()\n",
    "    sess.run(tf.local_variables_initializer())\n",
    "    tf_map = sess.run(m_ap)\n",
    "    return tf_map"
   ]
  },
  {
   "cell_type": "code",
   "execution_count": 4,
   "metadata": {},
   "outputs": [],
   "source": [
    "def load_CIFAR10_dataset(file_name):\n",
    "    with open(file_name, 'rb') as f:                \n",
    "        d = cPickle.load(f)\n",
    "        # decode utf8\n",
    "        d_decoded = {}\n",
    "        for k, v in d.items():\n",
    "            d_decoded[k.decode('utf8')] = v\n",
    "        d = d_decoded\n",
    "        data = d['data']\n",
    "        labels = d['labels']\n",
    "        raw_float_data = np.array(data, dtype=float) / 255.0\n",
    "        return raw_float_data, labels\n"
   ]
  },
  {
   "cell_type": "code",
   "execution_count": 5,
   "metadata": {},
   "outputs": [],
   "source": [
    "def loadEngine(trt_engine_file_path):\n",
    "    TRT_LOGGER = trt.Logger(trt.Logger.ERROR)\n",
    "    with trt.Runtime(TRT_LOGGER) as runtime:\n",
    "        with open(trt_engine_file_path, \"rb\") as f, trt.Runtime(TRT_LOGGER) as runtime:\n",
    "            engine = runtime.deserialize_cuda_engine(f.read())\n",
    "            return engine;"
   ]
  },
  {
   "cell_type": "code",
   "execution_count": 1,
   "metadata": {},
   "outputs": [],
   "source": [
    "def inference(cifar_file_name, trt_engine_path):\n",
    "    results = []\n",
    "    engine = loadEngine(trt_engine_path)\n",
    "    with engine.create_execution_context() as context:\n",
    "        batch_size = engine.max_batch_size\n",
    "        print(\"batch size: \" + str(batch_size))\n",
    "        stream = cuda.Stream()\n",
    "    \n",
    "        imgs, labels = load_CIFAR10_dataset(cifar_file_name)\n",
    "        processed_imgs = imgs.reshape([-1, 3, 32, 32]).astype(trt.nptype(trt.float32))\n",
    "        max_batches = ((len(processed_imgs) // batch_size) + (1 if (len(processed_imgs) % batch_size) else 0))\n",
    "        current = 0\n",
    "        t0 = time.time()     \n",
    "        for i in range(0, max_batches):\n",
    "                    \n",
    "            current = i * batch_size;\n",
    "            next_ind = 0;\n",
    "            imgs_ravel = [];\n",
    "            if (i+1 == max_batches):\n",
    "                next_ind = i * batch_size  + len(processed_imgs) - i * batch_size\n",
    "                imgs_ravel =  processed_imgs[current : next_ind]\n",
    "            else:\n",
    "                next_ind = (i + 1) * batch_size\n",
    "            #print(\"current: \" + str(current) + \" next: \" + str(next_ind))\n",
    "                \n",
    "        \n",
    "            imgs_ravel = processed_imgs[current : next_ind].ravel()\n",
    "            current_batch_size = next_ind - current;\n",
    "            output = np.empty(10 * current_batch_size, dtype = np.float32)\n",
    "            d_input = cuda.mem_alloc(1 * imgs_ravel.nbytes)\n",
    "            d_output = cuda.mem_alloc(1 * output.nbytes)\n",
    "            bindings=[d_input, d_output]\n",
    "                    \n",
    "            cuda.memcpy_htod_async(d_input, imgs_ravel, stream)\n",
    "\n",
    "            context.execute_async(bindings = bindings, stream_handle=stream.handle, batch_size = current_batch_size)\n",
    "\n",
    "            cuda.memcpy_dtoh_async(output, d_output, stream)\n",
    "            stream.synchronize()\n",
    "            results = np.append(results, output)\n",
    "            \n",
    "        t1 = time.time()   \n",
    "        total_t = t1-t0 \n",
    "        print(\"total time: \" + str(total_t))\n",
    "        results = results.reshape(-1, 10)\n",
    "        return results\n",
    "            \n",
    "            \n",
    "            \n",
    "            \n",
    "\n"
   ]
  },
  {
   "cell_type": "code",
   "execution_count": 7,
   "metadata": {},
   "outputs": [
    {
     "name": "stdout",
     "output_type": "stream",
     "text": [
      "batch size: 450\n",
      "total time: 0.112390995026\n",
      "0.8512\n"
     ]
    }
   ],
   "source": [
    "# INT 8\n",
    "\n",
    "cifar_file = \"/home/vtpc/Documents/Alvils/tensorrt/cifar-10-batches-py/test_batch\"\n",
    "engine_file = \"int8.engine\"\n",
    "imgs, labels = load_CIFAR10_dataset(cifar_file)\n",
    "\n",
    "results = inference(cifar_file, engine_file)\n",
    "pred = mAP(labels, results)\n",
    "print(pred)"
   ]
  },
  {
   "cell_type": "code",
   "execution_count": 8,
   "metadata": {},
   "outputs": [
    {
     "name": "stdout",
     "output_type": "stream",
     "text": [
      "batch size: 450\n",
      "total time: 0.212811946869\n",
      "0.852\n"
     ]
    }
   ],
   "source": [
    "cifar_file = \"/home/vtpc/Documents/Alvils/tensorrt/cifar-10-batches-py/test_batch\"\n",
    "engine_file = \"fp32.engine\"\n",
    "imgs, labels = load_CIFAR10_dataset(cifar_file)\n",
    "\n",
    "results1 = inference(cifar_file, engine_file)\n",
    "pred = mAP(labels, results1)\n",
    "print(pred)"
   ]
  },
  {
   "cell_type": "code",
   "execution_count": 9,
   "metadata": {},
   "outputs": [],
   "source": [
    "a = np.array([1, 2, 3, 4, 5])"
   ]
  }
 ],
 "metadata": {
  "kernelspec": {
   "display_name": "Python 2",
   "language": "python",
   "name": "python2"
  },
  "language_info": {
   "codemirror_mode": {
    "name": "ipython",
    "version": 2
   },
   "file_extension": ".py",
   "mimetype": "text/x-python",
   "name": "python",
   "nbconvert_exporter": "python",
   "pygments_lexer": "ipython2",
   "version": "2.7.12"
  }
 },
 "nbformat": 4,
 "nbformat_minor": 2
}
