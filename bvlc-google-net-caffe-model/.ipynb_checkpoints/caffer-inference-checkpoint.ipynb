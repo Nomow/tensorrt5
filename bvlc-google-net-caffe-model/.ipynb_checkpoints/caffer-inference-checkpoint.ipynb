{
 "cells": [
  {
   "cell_type": "code",
   "execution_count": 1,
   "metadata": {},
   "outputs": [],
   "source": [
    "import numpy as np\n",
    "import matplotlib.pyplot as plt\n",
    "from PIL import Image\n",
    "import caffe\n",
    "import logging\n",
    "import numpy as np\n",
    "import pickle\n",
    "import pycuda.driver as cuda\n",
    "import pycuda.autoinit\n",
    "import uff\n",
    "import tensorrt as trt\n",
    "import ctypes\n",
    "import skimage.transform\n",
    "from matplotlib import pyplot as plt\n",
    "from six.moves import cPickle\n",
    "import time\n",
    "import tensorflow as tf\n",
    "import logging\n",
    "import os, os.path\n"
   ]
  },
  {
   "cell_type": "code",
   "execution_count": 2,
   "metadata": {},
   "outputs": [],
   "source": [
    "def prep_image(im, mean_val):\n",
    "    h, w, _ = im.shape\n",
    "    if h < w:\n",
    "        im = skimage.transform.resize(im, (224, w*224/h), preserve_range=True)\n",
    "    else:\n",
    "        im = skimage.transform.resize(im, (h*224/w, 224), preserve_range=True)\n",
    "\n",
    "    # Central crop to 224x224\n",
    "    h, w, _ = im.shape\n",
    "    im = im[h//2-112:h//2+112, w//2-112:w//2+112]\n",
    "        \n",
    "    #shuffle axes to c01\n",
    "    im = np.swapaxes(np.swapaxes(im, 1, 2), 0, 1)\n",
    "    \n",
    "    # convert to BGR\n",
    "    im = im[::-1, :, :]\n",
    "    # scaled back to 0 ... 255 (caffe loads images as 0 ... 1)\n",
    "    im = im * 255.0\n",
    "    im = im - mean_val\n",
    "    return im"
   ]
  },
  {
   "cell_type": "code",
   "execution_count": 3,
   "metadata": {},
   "outputs": [],
   "source": [
    "def mAP(y_true, y_pred):\n",
    "    y_true = np.array(y_true).astype(np.int64)\n",
    "    y_true = tf.identity(y_true)\n",
    "    y_pred = np.array(y_pred).astype(np.float32)\n",
    "    y_pred = tf.identity(y_pred) # np to tensor\n",
    "    _, m_ap = tf.metrics.average_precision_at_k(y_true, y_pred, 1)\n",
    "    sess = tf.Session()\n",
    "    sess.run(tf.local_variables_initializer())\n",
    "    tf_map = sess.run(m_ap)\n",
    "    return tf_map"
   ]
  },
  {
   "cell_type": "code",
   "execution_count": 4,
   "metadata": {},
   "outputs": [],
   "source": [
    "# logger\n",
    "logger = logging.getLogger()\n",
    "logger.setLevel(logging.ERROR)\n",
    "logging.debug(\"test\")"
   ]
  },
  {
   "cell_type": "code",
   "execution_count": 5,
   "metadata": {},
   "outputs": [],
   "source": [
    "# caffe init\n",
    "caffe.set_device(0) \n",
    "caffe.set_mode_gpu()\n",
    "model_path = \"/home/vtpc/Documents/Alvils/tensorrt/libs/caffe/models/bvlc_googlenet/weights.caffemodel\"\n",
    "network_path = \"/home/vtpc/Documents/Alvils/tensorrt/libs/caffe/models/bvlc_googlenet/deploy.prototxt\"\n",
    "net = caffe.Net(network_path, model_path, caffe.TEST)\n",
    "batch_size = 150\n",
    "mean_values = np.array([104, 117, 123]).reshape((3,1,1))\n"
   ]
  },
  {
   "cell_type": "code",
   "execution_count": 6,
   "metadata": {},
   "outputs": [
    {
     "name": "stderr",
     "output_type": "stream",
     "text": [
      "/home/vtpc/.local/lib/python2.7/site-packages/skimage/io/_io.py:49: UserWarning: `as_grey` has been deprecated in favor of `as_gray`\n",
      "  warn('`as_grey` has been deprecated in favor of `as_gray`')\n"
     ]
    }
   ],
   "source": [
    "# img loading\n",
    "img_load_count = 2000\n",
    "img_path = \"/home/vtpc/Documents/Alvils/tensorrt/data/ilsvrc12/imgs/\"\n",
    "img_names_and_labels_path = '/home/vtpc/Documents/Alvils/tensorrt/data/ilsvrc12/val.txt'\n",
    "imgs_file_names_and_labels = np.loadtxt(img_names_and_labels_path,  dtype=str)\n",
    "# img loading\n",
    "imgs = []\n",
    "labels = []\n",
    "for i in range(0, img_load_count):\n",
    "    imgs.append(caffe.io.load_image(img_path + imgs_file_names_and_labels[i][0]))\n",
    "    labels.append(imgs_file_names_and_labels[i][1])\n"
   ]
  },
  {
   "cell_type": "code",
   "execution_count": 7,
   "metadata": {},
   "outputs": [
    {
     "name": "stderr",
     "output_type": "stream",
     "text": [
      "/home/vtpc/.local/lib/python2.7/site-packages/skimage/transform/_warps.py:105: UserWarning: The default mode, 'constant', will be changed to 'reflect' in skimage 0.15.\n",
      "  warn(\"The default mode, 'constant', will be changed to 'reflect' in \"\n",
      "/home/vtpc/.local/lib/python2.7/site-packages/skimage/transform/_warps.py:110: UserWarning: Anti-aliasing will be enabled by default in skimage 0.15 to avoid aliasing artifacts when down-sampling images.\n",
      "  warn(\"Anti-aliasing will be enabled by default in skimage 0.15 to \"\n"
     ]
    }
   ],
   "source": [
    "# preprocess\n",
    "imgs_transformed = [];\n",
    "for img in imgs:\n",
    "    imgs_transformed.append(prep_image(img, mean_values))\n",
    "    "
   ]
  },
  {
   "cell_type": "code",
   "execution_count": 8,
   "metadata": {},
   "outputs": [
    {
     "data": {
      "text/plain": [
       "<matplotlib.image.AxesImage at 0x7f31245e0fd0>"
      ]
     },
     "execution_count": 8,
     "metadata": {},
     "output_type": "execute_result"
    },
    {
     "data": {
      "image/png": "[encoded data removed]",
      "text/plain": [
       "<Figure size 432x288 with 1 Axes>"
      ]
     },
     "metadata": {
      "needs_background": "light"
     },
     "output_type": "display_data"
    }
   ],
   "source": [
    "plt.imshow(np.transpose(imgs_transformed[2],(1, 2, 0)))"
   ]
  },
  {
   "cell_type": "code",
   "execution_count": 14,
   "metadata": {},
   "outputs": [
    {
     "name": "stdout",
     "output_type": "stream",
     "text": [
      "Time without transfer: 0.144273042679\n",
      "Time without transfer: 0.144403934479\n",
      "Time without transfer: 0.146441936493\n",
      "Time without transfer: 0.145955085754\n",
      "Time without transfer: 0.145606994629\n",
      "Time without transfer: 0.144968986511\n",
      "Time without transfer: 0.144875049591\n",
      "Time without transfer: 0.144916057587\n",
      "Time without transfer: 0.145797014236\n",
      "Time without transfer: 0.145572900772\n",
      "Time without transfer: 0.145764112473\n",
      "Time without transfer: 0.144628047943\n",
      "Time without transfer: 0.14555811882\n",
      "Time without transfer: 0.0559239387512\n",
      "Time with transfer: 2.43505597115\n",
      "0.6765\n"
     ]
    }
   ],
   "source": [
    "# inference\n",
    "max_batches = ((len(imgs_transformed) // batch_size) + (1 if (len(imgs_transformed) % batch_size) else 0))\n",
    "results = []\n",
    "current = 0\n",
    "t0_with_transfer = time.time()     \n",
    "for i in range(0, max_batches):\n",
    "    current = i * batch_size;\n",
    "    next_ind = 0;\n",
    "    imgs_ravel = [];\n",
    "    if (i+1 == max_batches):\n",
    "        next_ind = i * batch_size  + len(imgs_transformed) - i * batch_size\n",
    "    else:\n",
    "        next_ind = (i + 1) * batch_size\n",
    "    current_batch_size = next_ind - current;\n",
    "    imgs_ravel = imgs_transformed[current : next_ind]    \n",
    "    net.blobs['data'].reshape(current_batch_size, 3, 224, 224)\n",
    "    for j in range(0, current_batch_size):\n",
    "        net.blobs['data'].data[j,:,:,:] = imgs_ravel[j]\n",
    "    t0_without_transer = time.time()     \n",
    "    output = net.forward()\n",
    "    t1_without_transfer = time.time() \n",
    "    total_t_without_transfer = t1_without_transfer - t0_without_transer;\n",
    "    print(\"Time without transfer: \" + str(total_t_without_transfer))\n",
    "\n",
    "    results = np.append(results, output['prob'])\n",
    "t1_with_transfer = time.time()\n",
    "total_t_with_transfer = t1_with_transfer - t0_with_transfer;\n",
    "print(\"Time with transfer: \" + str(total_t_with_transfer))\n",
    "results_reshaped = results.reshape(-1, 1000)\n",
    "precision = mAP(labels, results_reshaped)\n",
    "print(precision)\n",
    "    "
   ]
  }
 ],
 "metadata": {
  "kernelspec": {
   "display_name": "Python 3",
   "language": "python",
   "name": "python3"
  },
  "language_info": {
   "codemirror_mode": {
    "name": "ipython",
    "version": 3
   },
   "file_extension": ".py",
   "mimetype": "text/x-python",
   "name": "python",
   "nbconvert_exporter": "python",
   "pygments_lexer": "ipython3",
   "version": "3.6.7"
  }
 },
 "nbformat": 4,
 "nbformat_minor": 2
}
