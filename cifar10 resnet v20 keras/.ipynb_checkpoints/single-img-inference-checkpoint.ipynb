{
 "cells": [
  {
   "cell_type": "code",
   "execution_count": 1,
   "metadata": {},
   "outputs": [],
   "source": [
    "# This sample uses a UFF MNIST model to create a TensorRT Inference Engine\n",
    "from random import randint\n",
    "from PIL import Image\n",
    "import numpy as np\n",
    "import pickle\n",
    "\n",
    "import pycuda.driver as cuda\n",
    "# This import causes pycuda to automatically manage CUDA context creation and cleanup.\n",
    "import pycuda.autoinit\n",
    "import uff\n",
    "import tensorrt as trt\n",
    "\n",
    "from matplotlib import pyplot as plt\n",
    "from six.moves import cPickle"
   ]
  },
  {
   "cell_type": "code",
   "execution_count": 2,
   "metadata": {},
   "outputs": [],
   "source": [
    "## information about data needed to parse model and build engine\n",
    "class ModelData(object):\n",
    "    MODEL_FILE = \"/home/vtpc/Documents/Alvils/tensorrt/pretrained-models/cifar10_resnet20v1_model/model.pb\"\n",
    "    INPUT_NAME =\"input_1\"\n",
    "    INPUT_SHAPE = (3, 32, 32) # always nchw\n",
    "    OUTPUT_NAME = \"dense_1/Softmax\"\n",
    "    DTYPE = trt.float32"
   ]
  },
  {
   "cell_type": "code",
   "execution_count": 3,
   "metadata": {},
   "outputs": [],
   "source": [
    "# Allocate host and device buffers, and create a stream.\n",
    "def allocate_buffers(engine):\n",
    "    # Determine dimensions and create page-locked memory buffers (i.e. won't be swapped to disk) to hold host inputs/outputs.\n",
    "    h_input = cuda.pagelocked_empty(trt.volume(engine.get_binding_shape(0)), dtype=trt.nptype(ModelData.DTYPE))\n",
    "    h_output = cuda.pagelocked_empty(trt.volume(engine.get_binding_shape(1)), dtype=trt.nptype(ModelData.DTYPE))\n",
    "    # Allocate device memory for inputs and outputs.\n",
    "    d_input = cuda.mem_alloc(h_input.nbytes)\n",
    "    d_output = cuda.mem_alloc(h_output.nbytes)\n",
    "    # Create a stream in which to copy inputs/outputs and run inference.\n",
    "    stream = cuda.Stream()\n",
    "    return h_input, d_input, h_output, d_output, stream"
   ]
  },
  {
   "cell_type": "code",
   "execution_count": 4,
   "metadata": {},
   "outputs": [],
   "source": [
    "def do_inference(context, h_input, d_input, h_output, d_output, stream):\n",
    "    # Transfer input data to the GPU.\n",
    "    cuda.memcpy_htod_async(d_input, h_input, stream)\n",
    "    # Run inference.\n",
    "    inference_success = context.execute_async(bindings=[int(d_input), int(d_output)], stream_handle=stream.handle)\n",
    "    print(\"inference success: \" + str(inference_success))\n",
    "    # Transfer predictions back from the GPU.\n",
    "    cuda.memcpy_dtoh_async(h_output, d_output, stream)\n",
    "    # Synchronize the stream\n",
    "    stream.synchronize()\n",
    "    #print(\"========= h_input======\")\n",
    "    #print(h_input)\n",
    "    #print(\"========= d_input======\")\n",
    "    #print(d_input)\n",
    "   # print(\"========= h_output======\")\n",
    "    print((h_output))  \n",
    "   # print(\"========= d_output======\")\n",
    "   # print(d_output)  \n"
   ]
  },
  {
   "cell_type": "code",
   "execution_count": 5,
   "metadata": {},
   "outputs": [
    {
     "name": "stdout",
     "output_type": "stream",
     "text": [
      "=== Automatically deduced input nodes ===\n",
      "[name: \"input_1\"\n",
      "op: \"Placeholder\"\n",
      "attr {\n",
      "  key: \"dtype\"\n",
      "  value {\n",
      "    type: DT_FLOAT\n",
      "  }\n",
      "}\n",
      "attr {\n",
      "  key: \"shape\"\n",
      "  value {\n",
      "    shape {\n",
      "      dim {\n",
      "        size: -1\n",
      "      }\n",
      "      dim {\n",
      "        size: 32\n",
      "      }\n",
      "      dim {\n",
      "        size: 32\n",
      "      }\n",
      "      dim {\n",
      "        size: 3\n",
      "      }\n",
      "    }\n",
      "  }\n",
      "}\n",
      "]\n",
      "=========================================\n",
      "\n",
      "Using output node dense_1/Softmax\n",
      "Converting to UFF graph\n",
      "DEBUG: convert reshape to flatten node\n",
      "No. nodes: 216\n"
     ]
    }
   ],
   "source": [
    "uff_model = uff.from_tensorflow_frozen_model(ModelData.MODEL_FILE, [ModelData.OUTPUT_NAME])\n",
    "\n",
    "TRT_LOGGER = trt.Logger(trt.Logger.WARNING)\n",
    "\n",
    "    "
   ]
  },
  {
   "cell_type": "code",
   "execution_count": 8,
   "metadata": {},
   "outputs": [
    {
     "name": "stdout",
     "output_type": "stream",
     "text": [
      "parsed True\n",
      "[0. 0. 0. 0. 0. 0. 0. 0. 0. 0.]\n",
      "(3, 32, 32)\n"
     ]
    },
    {
     "data": {
      "image/png": "[encoded data removed]",
      "text/plain": [
       "<Figure size 432x288 with 1 Axes>"
      ]
     },
     "metadata": {
      "needs_background": "light"
     },
     "output_type": "display_data"
    },
    {
     "name": "stdout",
     "output_type": "stream",
     "text": [
      "[0.48235294 0.47843137 0.47843137 ... 0.654902   0.63529414 0.6156863 ]\n",
      "inference success: True\n",
      "[0. 0. 0. 0. 1. 0. 0. 0. 0. 0.]\n",
      "aaaa\n",
      "4\n"
     ]
    }
   ],
   "source": [
    "\n",
    "# For more information on TRT basics, refer to the introd samples.\n",
    "with trt.Builder(TRT_LOGGER) as builder, builder.create_network() as network, trt.UffParser() as parser:\n",
    "    # builder argums for optimization\n",
    "    builder.max_batch_size = 1\n",
    "    builder.max_workspace_size = 1 << 30\n",
    "    builder.fp16_mode = True\n",
    "    \n",
    "    # Parse the Uff Network\n",
    "    parser.register_input(ModelData.INPUT_NAME, ModelData.INPUT_SHAPE)#, trt.UffInputOrder.NHWC)\n",
    "    parser.register_output(ModelData.OUTPUT_NAME)\n",
    "    parsed = parser.parse_buffer(uff_model, network)\n",
    "    print(\"parsed \" + str(parsed))\n",
    "    # builds engine\n",
    "    with builder.build_cuda_engine(network) as engine:\n",
    "        h_input, d_input, h_output, d_output, stream = allocate_buffers(engine)\n",
    "        print((h_output))  \n",
    "\n",
    "        with engine.create_execution_context() as context:\n",
    "            with open(\"/home/vtpc/Documents/Alvils/tensorrt/cifar-10-batches-py/test_batch\", 'rb') as f:\n",
    "                \n",
    "                \n",
    "                d = cPickle.load(f)\n",
    "                # decode utf8\n",
    "                d_decoded = {}\n",
    "                for k, v in d.items():\n",
    "                    d_decoded[k.decode('utf8')] = v\n",
    "                d = d_decoded\n",
    "                data = d['data']\n",
    "                labels = d['labels']\n",
    "                raw_float = np.array(data, dtype=float) / 255.0\n",
    "                # Reshape the array to 4-dimensions.\n",
    "                images = raw_float.reshape([-1, 3, 32, 32])\n",
    "                # Reorder the indices of the array to have channels in the last axis\n",
    "                #images1 = images.transpose([0, 2, 3, 1])\n",
    "      \n",
    "\n",
    "                img = np.asarray(images[159]).astype(trt.nptype(ModelData.DTYPE))\n",
    "                print(img.shape)\n",
    "        \n",
    "                plt.imshow(img.transpose([1, 2, 0]))\n",
    "                plt.show()\n",
    "                single_img_flatten = img.ravel()\n",
    "                print(single_img_flatten)\n",
    "                #print(single_img_flatten.shape)\n",
    "                ##print(img.shape)\n",
    "                np.copyto(h_input, single_img_flatten)\n",
    "                do_inference(context, h_input, d_input, h_output, d_output, stream)\n",
    "                print(\"aaaa\")\n",
    "                print(np.argmax(h_output))"
   ]
  },
  {
   "cell_type": "code",
   "execution_count": null,
   "metadata": {},
   "outputs": [],
   "source": []
  },
  {
   "cell_type": "code",
   "execution_count": null,
   "metadata": {},
   "outputs": [],
   "source": [
    "    print(engine.get_binding_shape(0))\n",
    "    print(\"aaa\\n\")\n",
    "    print(engine.get_binding_shape(1))\n",
    "    print(\"bbb \\n\")\n",
    "    print(trt.volume(engine.get_binding_shape(0)))\n",
    "    print(\"cccc\\n\")\n",
    "    print(trt.volume(engine.get_binding_shape(1)))\n"
   ]
  },
  {
   "cell_type": "markdown",
   "metadata": {},
   "source": []
  },
  {
   "cell_type": "code",
   "execution_count": null,
   "metadata": {},
   "outputs": [],
   "source": [
    "import pickle\n",
    "with open(\"/home/vtpc/Documents/Alvils/tensorrt/cifar-10-batches-py/test_batch\") as f:\n",
    "    data = pickle.load(f)\n",
    "    for key in data:\n",
    "        print \"key: %s ,\" % (key)\n",
    "        \n",
    "        \n",
    "        \n",
    "    "
   ]
  },
  {
   "cell_type": "code",
   "execution_count": null,
   "metadata": {
    "scrolled": true
   },
   "outputs": [],
   "source": [
    "\n",
    "\n",
    "    "
   ]
  },
  {
   "cell_type": "code",
   "execution_count": null,
   "metadata": {},
   "outputs": [],
   "source": [
    "\n"
   ]
  },
  {
   "cell_type": "code",
   "execution_count": null,
   "metadata": {},
   "outputs": [],
   "source": []
  }
 ],
 "metadata": {
  "kernelspec": {
   "display_name": "Python 3",
   "language": "python",
   "name": "python3"
  },
  "language_info": {
   "codemirror_mode": {
    "name": "ipython",
    "version": 3
   },
   "file_extension": ".py",
   "mimetype": "text/x-python",
   "name": "python",
   "nbconvert_exporter": "python",
   "pygments_lexer": "ipython3",
   "version": "3.6.7"
  }
 },
 "nbformat": 4,
 "nbformat_minor": 2
}
