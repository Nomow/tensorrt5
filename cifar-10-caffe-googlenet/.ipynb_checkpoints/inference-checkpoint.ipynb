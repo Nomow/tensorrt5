{
 "cells": [
  {
   "cell_type": "code",
   "execution_count": 218,
   "metadata": {},
   "outputs": [
    {
     "name": "stdout",
     "output_type": "stream",
     "text": [
      "/home/vtpc/Documents/Alvils/tensorrt5\n"
     ]
    }
   ],
   "source": [
    "import numpy as np\n",
    "import matplotlib.pyplot as plt\n",
    "from PIL import Image\n",
    "import caffe\n",
    "import logging\n",
    "import numpy as np\n",
    "import pickle\n",
    "import pycuda.driver as cuda\n",
    "import pycuda.autoinit\n",
    "import uff\n",
    "import tensorrt as trt\n",
    "import ctypes\n",
    "\n",
    "from matplotlib import pyplot as plt\n",
    "from six.moves import cPickle\n",
    "import time\n",
    "import tensorflow as tf\n",
    "import logging\n"
   ]
  },
  {
   "cell_type": "code",
   "execution_count": 2,
   "metadata": {},
   "outputs": [],
   "source": [
    "def load_CIFAR10_dataset(file_name):\n",
    "    with open(file_name, 'rb') as f:                \n",
    "        d = cPickle.load(f)\n",
    "        # decode utf8\n",
    "        d_decoded = {}\n",
    "        for k, v in d.items():\n",
    "            d_decoded[k.decode('utf8')] = v\n",
    "        d = d_decoded\n",
    "        data = d['data']\n",
    "        labels = d['labels']\n",
    "        raw_float_data = np.array(data, dtype=float) / 255.0\n",
    "        return raw_float_data, labels\n",
    "    \n",
    "def mAP(y_true, y_pred):\n",
    "    \n",
    "    y_true = np.array(labels).astype(np.int64)\n",
    "    y_true = tf.identity(y_true)\n",
    "\n",
    "    y_pred = np.array(y_pred).astype(np.float32)\n",
    "    y_pred = tf.identity(y_pred) # np to tensor\n",
    "    _, m_ap = tf.metrics.average_precision_at_k(y_true, y_pred, 1)\n",
    "    sess = tf.Session()\n",
    "    sess.run(tf.local_variables_initializer())\n",
    "    tf_map = sess.run(m_ap)\n",
    "    return tf_map\n",
    "\n",
    "\n",
    "def rgbToBgr(img):\n",
    "\n",
    "    return np.transpose(img, (2, 1, 0))\n",
    "\n",
    "def swapImgsChannels(imgs):\n",
    "    for i in range(0, len(imgs)):\n",
    "        temp =  imgs[i, 0]\n",
    "        imgs[i, 0] = imgs[i, 2]\n",
    "        imgs[i, 2] = temp;\n",
    "    return imgs;\n",
    "    "
   ]
  },
  {
   "cell_type": "code",
   "execution_count": 3,
   "metadata": {},
   "outputs": [],
   "source": [
    "logger = logging.getLogger()\n",
    "logger.setLevel(logging.ERROR)\n",
    "logging.debug(\"test\")\n",
    "caffe.set_device(0) \n",
    "caffe.set_mode_gpu()\n",
    "\n",
    "\n",
    "\n"
   ]
  },
  {
   "cell_type": "code",
   "execution_count": 4,
   "metadata": {},
   "outputs": [],
   "source": [
    "net = caffe.Net('/home/vtpc/Documents/Alvils/tensorrt/pretrained-models/cifar-10-googlenet/deploy.prototxt',\n",
    "                '/home/vtpc/Documents/Alvils/tensorrt/pretrained-models/cifar-10-googlenet/weights.caffemodel',\n",
    "                caffe.TEST)\n",
    "cifar_file = \"/home/vtpc/Documents/Alvils/tensorrt/data/cifar10/test_batch\"\n"
   ]
  },
  {
   "cell_type": "code",
   "execution_count": 5,
   "metadata": {},
   "outputs": [
    {
     "name": "stdout",
     "output_type": "stream",
     "text": [
      "mean-subtracted values: [('B', 125.30691780149937), ('G', 122.9503942579031), ('R', 113.86538316309452)]\n",
      "(3,)\n"
     ]
    }
   ],
   "source": [
    "mu = np.load( \"/home/vtpc/Documents/Alvils/tensorrt/pretrained-models/cifar-10-googlenet/mean.npy\" )\n",
    "mu = mu.mean(1).mean(1)  # average over pixels to obtain the mean (BGR) pixel values\n",
    "# create transformer for the input called 'data'\n",
    "transformer = caffe.io.Transformer({'data': net.blobs['data'].data.shape})\n",
    "transformer.set_transpose('data', (2,0,1))  # move image channels to outermost dimension\n",
    "transformer.set_mean('data', mu)            # subtract the dataset-mean value in each channel\n",
    "transformer.set_raw_scale('data', 255)      # rescale from [0, 1] to [0, 255]\n",
    "#transformer.set_channel_swap('data', (2,1,0))  # swap channels from RGB to BGR\n",
    "\n",
    "# load the mean ImageNet image (as distributed with Caffe) for subtraction\n",
    "#mu = mu.mean(1).mean(1)  # average over pixels to obtain the mean (BGR) pixel values\n",
    "print 'mean-subtracted values:', zip('BGR', mu)\n",
    "\n",
    "\n",
    "print(mu.shape)"
   ]
  },
  {
   "cell_type": "code",
   "execution_count": null,
   "metadata": {},
   "outputs": [],
   "source": []
  },
  {
   "cell_type": "code",
   "execution_count": 6,
   "metadata": {},
   "outputs": [
    {
     "name": "stdout",
     "output_type": "stream",
     "text": [
      "(10000, 32, 32, 3)\n",
      "(10000, 3, 32, 32)\n"
     ]
    }
   ],
   "source": [
    "batch_size = 450\n",
    "imgs, labels = load_CIFAR10_dataset(cifar_file)\n",
    "transformed_imgs = imgs.reshape([-1, 3, 32, 32])\n",
    "transformed_imgs = np.transpose(transformed_imgs, (0, 2, 3, 1))\n",
    "print(transformed_imgs.shape)\n",
    "new_ims = np.zeros((10000, 3, 32, 32))\n",
    "for i in range(0, len(new_ims)):\n",
    "    new_ims[i] = transformer.preprocess('data', transformed_imgs[i])\n",
    "#print(\"a\")\n",
    "\n",
    "#new_ims = swapImgsChannels(new_ims)#.transpose([0, 3, 2, 1])#np.zeros((im_shape[0], im_shape[3], im_shape[2], im_shape[1]))\n",
    "#plt.imshow(np.transpose(new_ims[15],(1,2,0)))\n",
    "#for i in range(0, len(new_ims)):\n",
    "#    new_ims[i][0] = new_ims[i][0] - mu[0]\n",
    "#    new_ims[i][1] = new_ims[i][1] - mu[1]\n",
    "#    new_ims[i][2] = new_ims[i][2] - mu[2]\n",
    "\n",
    "#plt.imshow(np.transpose(new_ims[15],(1,2,0)))\n",
    "\n",
    "#for i in range(0, len(transformed_imgs)):\n",
    "#    new_ims[i] = transformer.preprocess('data', transformed_imgs[i])\n",
    "#print(\"a\")\n",
    "print(new_ims.shape)\n",
    "max_batches = ((len(transformed_imgs) // batch_size) + (1 if (len(transformed_imgs) % batch_size) else 0))\n",
    "\n"
   ]
  },
  {
   "cell_type": "code",
   "execution_count": null,
   "metadata": {},
   "outputs": [],
   "source": []
  },
  {
   "cell_type": "code",
   "execution_count": 7,
   "metadata": {},
   "outputs": [
    {
     "name": "stdout",
     "output_type": "stream",
     "text": [
      "total time: 0.598937988281\n",
      "0.7891\n"
     ]
    }
   ],
   "source": [
    "results = []\n",
    "current = 0\n",
    "\n",
    "\n",
    "t0 = time.time()     \n",
    "for i in range(0, max_batches):\n",
    "    current = i * batch_size;\n",
    "    next_ind = 0;\n",
    "    imgs_ravel = [];\n",
    "    if (i+1 == max_batches):\n",
    "        next_ind = i * batch_size  + len(new_ims) - i * batch_size\n",
    "    else:\n",
    "        next_ind = (i + 1) * batch_size\n",
    "    current_batch_size = next_ind - current;\n",
    "    imgs_ravel = new_ims[current : next_ind]    \n",
    "    net.blobs['data'].reshape(current_batch_size, 3, 32, 32)\n",
    "    for j in range(0, current_batch_size):\n",
    "        net.blobs['data'].data[j,:,:,:] = imgs_ravel[j]\n",
    "    output = net.forward()\n",
    "    results = np.append(results, output['prob'])\n",
    "t1 = time.time()\n",
    "time_total = t1 - t0;\n",
    "print(\"total time: \" + str(time_total))\n",
    "\n",
    "\n",
    "\n",
    "\n",
    "results = results.reshape(-1, 10)\n",
    "pred = mAP(labels, results)\n",
    "print(pred)\n",
    "    "
   ]
  },
  {
   "cell_type": "code",
   "execution_count": 8,
   "metadata": {},
   "outputs": [
    {
     "data": {
      "text/plain": [
       "[('B', 1), ('G', 2), ('R', 3)]"
      ]
     },
     "execution_count": 8,
     "metadata": {},
     "output_type": "execute_result"
    }
   ],
   "source": [
    "list_a = [1, 2, 3]\n",
    "list_b = ['a', 'b', 'c', 'd', 'e']\n",
    "\n",
    "zipped_list = zip(list_a, list_b)\n",
    "\n",
    "zip('BGR', [1, 2, 3])"
   ]
  },
  {
   "cell_type": "code",
   "execution_count": 9,
   "metadata": {
    "scrolled": false
   },
   "outputs": [],
   "source": [
    "#blob = caffe.proto.caffe_pb2.BlobProto()\n",
    "#data = open(\"/home/vtpc/Documents/Alvils/tensorrt/pretrained-models/cifar-10-googlenet/mean.binaryproto\" , 'rb' ).read()\n",
    "#blob.ParseFromString(data)\n",
    "#data = np.array(blob.data)\n",
    "#arr = np.array( caffe.io.blobproto_to_array(blob) )\n",
    "#out = arr[0]\n",
    "#np.save( \"/home/vtpc/Documents/Alvils/tensorrt/pretrained-models/cifar-10-googlenet/mean.npy\" , out )\n"
   ]
  }
 ],
 "metadata": {
  "kernelspec": {
   "display_name": "Python 2",
   "language": "python",
   "name": "python2"
  },
  "language_info": {
   "codemirror_mode": {
    "name": "ipython",
    "version": 2
   },
   "file_extension": ".py",
   "mimetype": "text/x-python",
   "name": "python",
   "nbconvert_exporter": "python",
   "pygments_lexer": "ipython2",
   "version": "2.7.12"
  }
 },
 "nbformat": 4,
 "nbformat_minor": 2
}
